{
 "cells": [
  {
   "cell_type": "markdown",
   "id": "3e5a9cdc-719f-4974-b80b-badce26b01d4",
   "metadata": {},
   "source": [
    "## Run a ML pipeline on Vertex Pipelines and Log Runs in Vertex AI Experiments "
   ]
  },
  {
   "cell_type": "markdown",
   "id": "2627813e-57fa-4df6-aab8-284d26da902f",
   "metadata": {},
   "source": [
    "## 1 - Pip Install Relevant Libraries"
   ]
  },
  {
   "cell_type": "code",
   "execution_count": null,
   "id": "f1b04e74-28c2-4258-9d50-eebfad760e7a",
   "metadata": {},
   "outputs": [],
   "source": [
    "import os\n",
    "\n",
    "# The Vertex AI Workbench Notebook product has specific requirements\n",
    "IS_WORKBENCH_NOTEBOOK = os.getenv(\"DL_ANACONDA_HOME\")\n",
    "IS_USER_MANAGED_WORKBENCH_NOTEBOOK = os.path.exists(\n",
    "    \"/opt/deeplearning/metadata/env_version\"\n",
    ")\n",
    "\n",
    "# Vertex AI Notebook requires dependencies to be installed with '--user'\n",
    "USER_FLAG = \"\"\n",
    "if IS_WORKBENCH_NOTEBOOK:\n",
    "    USER_FLAG = \"--user\"\n",
    "\n",
    "!pip3 install {USER_FLAG} --force-reinstall 'google-cloud-aiplatform>=1.15' -q --no-warn-conflicts\n",
    "!pip3 install {USER_FLAG} kfp -q --no-warn-conflicts"
   ]
  },
  {
   "cell_type": "code",
   "execution_count": 2,
   "id": "103c000c-a127-4449-a4e2-8af6a8f94b21",
   "metadata": {},
   "outputs": [],
   "source": [
    "# Automatically restart kernel after installs\n",
    "import os\n",
    "\n",
    "if not os.getenv(\"IS_TESTING\"):\n",
    "    # Automatically restart kernel after installs\n",
    "    import IPython\n",
    "\n",
    "    app = IPython.Application.instance()\n",
    "    app.kernel.do_shutdown(True)"
   ]
  },
  {
   "cell_type": "markdown",
   "id": "43bed064-4c61-47ce-af9b-849d00f67e11",
   "metadata": {},
   "source": [
    "## 2 - Define Constants"
   ]
  },
  {
   "cell_type": "code",
   "execution_count": 1,
   "id": "b42578a0-acb3-4fd3-b86f-b1e5db961549",
   "metadata": {},
   "outputs": [
    {
     "name": "stdout",
     "output_type": "stream",
     "text": [
      "Project ID:  rewolfe-demo-gcct\n"
     ]
    }
   ],
   "source": [
    "import os\n",
    "\n",
    "PROJECT_ID = \"\"\n",
    "\n",
    "# Get your Google Cloud project ID from gcloud\n",
    "if not os.getenv(\"IS_TESTING\"):\n",
    "    shell_output = !gcloud config list --format 'value(core.project)' 2>/dev/null\n",
    "    PROJECT_ID = shell_output[0]\n",
    "    print(\"Project ID: \", PROJECT_ID)"
   ]
  },
  {
   "cell_type": "code",
   "execution_count": null,
   "id": "8a44ceb6-1b7f-4f2b-b60b-d93f409f5072",
   "metadata": {},
   "outputs": [],
   "source": [
    "if PROJECT_ID == \"\" or PROJECT_ID is None:\n",
    "    PROJECT_ID = \"rewolfe-demo-gcct\"  # @param {type:\"string\"}"
   ]
  },
  {
   "cell_type": "code",
   "execution_count": 2,
   "id": "824904b5-d0b8-4013-a3b2-2cece794429a",
   "metadata": {},
   "outputs": [],
   "source": [
    "#set your region \n",
    "REGION = \"us-central1\"  # @param {type: \"string\"}\n",
    "\n",
    "if REGION == \"[your-region]\":\n",
    "    REGION = \"us-central1\""
   ]
  },
  {
   "cell_type": "code",
   "execution_count": 3,
   "id": "ea4ec90b-0ede-4185-b35e-4bae317c745a",
   "metadata": {},
   "outputs": [],
   "source": [
    "#set timestamp to avoid collisions between multiple users\n",
    "\n",
    "from datetime import datetime\n",
    "\n",
    "TIMESTAMP = datetime.now().strftime(\"%Y%m%d%H%M%S\")"
   ]
  },
  {
   "cell_type": "code",
   "execution_count": 4,
   "id": "e02aa9a2-a312-4d7b-b3f7-99c84a9c8a04",
   "metadata": {},
   "outputs": [],
   "source": [
    "#set cloud storage bucket \n",
    "BUCKET_NAME = \"experiments-demo-gaming-data\"  # @param {type:\"string\"}\n",
    "BUCKET_URI = f\"gs://{BUCKET_NAME}\""
   ]
  },
  {
   "cell_type": "markdown",
   "id": "5ed1491a-cd75-479a-91f4-1d76405bc7d6",
   "metadata": {},
   "source": [
    "## 3 - Create Cloud Storage Bucket & Copy Over Data from Public Bucket"
   ]
  },
  {
   "cell_type": "code",
   "execution_count": 5,
   "id": "6f374d3a-1169-47ce-b2e0-7a556257c12f",
   "metadata": {},
   "outputs": [
    {
     "name": "stdout",
     "output_type": "stream",
     "text": [
      "Creating gs://experiments-demo-gaming-data/...\n"
     ]
    }
   ],
   "source": [
    "! gsutil mb -l $REGION -p $PROJECT_ID $BUCKET_URI"
   ]
  },
  {
   "cell_type": "code",
   "execution_count": 5,
   "id": "5bbe0607-0fad-4459-9639-879007871e8b",
   "metadata": {},
   "outputs": [
    {
     "name": "stdout",
     "output_type": "stream",
     "text": [
      "                                 gs://experiments-demo-gaming-data/model/\n",
      "                                 gs://experiments-demo-gaming-data/pipelines/\n",
      "                                 gs://experiments-demo-gaming-data/player_data/\n"
     ]
    }
   ],
   "source": [
    "#verify access \n",
    "! gsutil ls -al $BUCKET_URI"
   ]
  },
  {
   "cell_type": "code",
   "execution_count": 7,
   "id": "a278dfa1-3419-4919-b03c-b2866a2d2387",
   "metadata": {},
   "outputs": [
    {
     "name": "stdout",
     "output_type": "stream",
     "text": [
      "Copying gs://cloud-samples-data/vertex-ai/structured_data/player_data/data.csv [Content-Type=text/csv]...\n",
      "Copying gs://cloud-samples-data/vertex-ai/structured_data/player_data/labels.csv [Content-Type=text/csv]...\n",
      "- [2 files][  5.1 MiB/  5.1 MiB]                                                \n",
      "Operation completed over 2 objects/5.1 MiB.                                      \n"
     ]
    }
   ],
   "source": [
    "# copy the data over to your cloud storage bucket\n",
    "DATASET_URI = \"gs://cloud-samples-data/vertex-ai/structured_data/player_data\" \n",
    "\n",
    "!gsutil cp -r $DATASET_URI $BUCKET_URI"
   ]
  },
  {
   "cell_type": "markdown",
   "id": "3db9690e-baf3-45e0-9f7d-659ae480284e",
   "metadata": {},
   "source": [
    "## 4 - Import Libraries & Define Additional Constants"
   ]
  },
  {
   "cell_type": "code",
   "execution_count": 6,
   "id": "ff68f183-878f-449b-8462-e04bd78ad39f",
   "metadata": {},
   "outputs": [],
   "source": [
    "import logging\n",
    "import os\n",
    "import time\n",
    "\n",
    "logger = logging.getLogger(\"logger\")\n",
    "logging.basicConfig(level=logging.INFO)\n",
    "\n",
    "import kfp.v2.compiler as compiler\n",
    "# Pipeline Experiments\n",
    "import kfp.v2.dsl as dsl\n",
    "# Vertex AI\n",
    "from google.cloud import aiplatform as vertex_ai\n",
    "from kfp.v2.dsl import Artifact, Input, Metrics, Model, Output, component\n",
    "from typing import NamedTuple"
   ]
  },
  {
   "cell_type": "code",
   "execution_count": 7,
   "id": "f82e276a-c11b-423a-a085-9564efe552b2",
   "metadata": {},
   "outputs": [],
   "source": [
    "#Define additional constants\n",
    "\n",
    "\n",
    "TASK = \"regression\"\n",
    "MODEL_TYPE = \"tensorflow\"\n",
    "EXPERIMENT_NAME = f\"{PROJECT_ID}-{TASK}-{MODEL_TYPE}-{TIMESTAMP}\"\n",
    "\n",
    "# Pipeline\n",
    "PIPELINE_URI = f\"{BUCKET_URI}/pipelines\"\n",
    "TRAIN_URI = f\"{BUCKET_URI}/player_data/data.csv\"\n",
    "LABEL_URI = f\"{BUCKET_URI}/player_data/labels.csv\"\n",
    "MODEL_URI = f\"{BUCKET_URI}/model\"\n",
    "DISPLAY_NAME = \"experiments-demo-gaming-data\"\n",
    "BQ_DATASET = \"player_data\"\n",
    "BQ_LOCATION = \"US\"  \n",
    "VIEW_NAME = 'dataset_test'\n",
    "PIPELINE_JSON_PKG_PATH = \"experiments_demo_gaming_data.json\"\n",
    "PIPELINE_ROOT = f\"gs://{BUCKET_URI}/pipeline_root\""
   ]
  },
  {
   "cell_type": "markdown",
   "id": "be52be6c-f29e-4547-90de-d5b05c2a7987",
   "metadata": {},
   "source": [
    "## 5 - Initialize Vertex AI SDK & Setup our Training Job as a Pipeline Component"
   ]
  },
  {
   "cell_type": "code",
   "execution_count": 8,
   "id": "0e88d5a2-e4fc-4335-863e-3b06a54c35d6",
   "metadata": {},
   "outputs": [],
   "source": [
    "#initialize vertex AI SDK \n",
    "vertex_ai.init(project=PROJECT_ID, staging_bucket=BUCKET_URI)"
   ]
  },
  {
   "cell_type": "code",
   "execution_count": 9,
   "id": "7daa4937-9485-4e79-9dcb-c2c697419270",
   "metadata": {},
   "outputs": [],
   "source": [
    "@component(\n",
    "    packages_to_install=[\n",
    "        \"numpy==1.21.0\",\n",
    "        \"pandas==1.3.5\", \n",
    "        \"scikit-learn==1.0.2\",\n",
    "        \"tensorflow==2.9.0\",\n",
    "    ]\n",
    ")\n",
    "def custom_trainer(\n",
    "    train_uri: str,\n",
    "    label_uri: str,\n",
    "    dropout_rate: float,\n",
    "    learning_rate: float,\n",
    "    epochs: int,\n",
    "    model_uri: str,\n",
    "    metrics: Output[Metrics], \n",
    "    model_metadata: Output[Model], \n",
    "    \n",
    "\n",
    "):\n",
    "\n",
    "    # import libraries\n",
    "    import logging\n",
    "    import uuid\n",
    "    from pathlib import Path as path\n",
    "\n",
    "    import pandas as pd\n",
    "    import tensorflow as tf\n",
    "    from tensorflow import keras\n",
    "    from tensorflow.keras.models import Sequential\n",
    "    from tensorflow.keras.layers import Dense\n",
    "    from tensorflow.keras.layers import Dropout\n",
    "    from tensorflow.keras.metrics import Metric \n",
    "    from sklearn.metrics import accuracy_score\n",
    "    from sklearn.model_selection import train_test_split\n",
    "    from sklearn.preprocessing import StandardScaler\n",
    "    from sklearn.metrics import mean_absolute_error\n",
    "    import numpy as np\n",
    "    from math import sqrt\n",
    "    import os\n",
    "    import tempfile\n",
    "\n",
    "    # set variables and use gcsfuse to update prefixes\n",
    "    gs_prefix = \"gs://\"\n",
    "    gcsfuse_prefix = \"/gcs/\"\n",
    "    train_path = train_uri.replace(gs_prefix, gcsfuse_prefix)\n",
    "    label_path = label_uri.replace(gs_prefix, gcsfuse_prefix)\n",
    "    model_path = model_uri.replace(gs_prefix, gcsfuse_prefix)\n",
    "\n",
    "    def get_logger():\n",
    "\n",
    "        logger = logging.getLogger(__name__)\n",
    "        logger.setLevel(logging.INFO)\n",
    "        handler = logging.StreamHandler()\n",
    "        handler.setFormatter(\n",
    "            logging.Formatter(\"%(asctime)s - %(name)s - %(levelname)s - %(message)s\")\n",
    "        )\n",
    "        logger.addHandler(handler)\n",
    "        return logger\n",
    "\n",
    "    def get_data(\n",
    "        train_path: str, \n",
    "        label_path: str\n",
    "    ) -> (pd.DataFrame): \n",
    "        \n",
    "        \n",
    "        #load data into pandas dataframe\n",
    "        data_0 = pd.read_csv(train_path)\n",
    "        labels_0 = pd.read_csv(label_path)\n",
    "        \n",
    "        #drop unnecessary leading columns\n",
    "        \n",
    "        data = data_0.drop('Unnamed: 0', axis=1)\n",
    "        labels = labels_0.drop('Unnamed: 0', axis=1)\n",
    "        \n",
    "        #save as numpy array for reshaping of data \n",
    "        \n",
    "        labels = labels.values\n",
    "        data = data.values\n",
    "    \n",
    "        # Split the data\n",
    "        labels = labels.reshape((labels.size,))\n",
    "        train_data, test_data, train_labels, test_labels = train_test_split(data, labels, test_size=0.2, shuffle=True, random_state=7)\n",
    "    \n",
    "        #Convert data back to pandas dataframe for scaling\n",
    "        \n",
    "        train_data = pd.DataFrame(train_data)\n",
    "        test_data = pd.DataFrame(test_data)\n",
    "        train_labels = pd.DataFrame(train_labels)\n",
    "        test_labels = pd.DataFrame(test_labels)\n",
    "        \n",
    "        #Scale and normalize the training dataset\n",
    "        \n",
    "        scaler = StandardScaler()\n",
    "        scaler.fit(train_data)\n",
    "        train_data = pd.DataFrame(scaler.transform(train_data), index=train_data.index, columns=train_data.columns)\n",
    "        test_data = pd.DataFrame(scaler.transform(test_data), index=test_data.index, columns=test_data.columns)\n",
    "        \n",
    "        return train_data,train_labels, test_data, test_labels \n",
    "    \n",
    "        \"\"\" Train your Keras model passing in the training data and values for learning rate, dropout rate,and the number of epochs \"\"\"\n",
    "\n",
    "    def train_model(\n",
    "        learning_rate: float, \n",
    "        dropout_rate: float,\n",
    "        epochs: float,\n",
    "        train_data: pd.DataFrame,\n",
    "        train_labels: pd.DataFrame):\n",
    " \n",
    "        # Train tensorflow model\n",
    "        param = {\"learning_rate\": learning_rate, \"dropout_rate\": dropout_rate, \"epochs\": epochs}\n",
    "        model = Sequential()\n",
    "        model.add(Dense(500, input_dim=train_data.shape[1], activation= \"relu\"))\n",
    "        model.add(Dropout(param['dropout_rate']))\n",
    "        model.add(Dense(100, activation= \"relu\"))\n",
    "        model.add(Dense(50, activation= \"relu\"))\n",
    "        model.add(Dense(1))\n",
    "            \n",
    "        model.compile(\n",
    "        tf.keras.optimizers.Adam(learning_rate= param['learning_rate']),\n",
    "        loss='mse',\n",
    "        metrics=[tf.keras.metrics.RootMeanSquaredError(),tf.keras.metrics.MeanAbsoluteError()])\n",
    "        \n",
    "        model.fit(train_data, train_labels, epochs= param['epochs'])\n",
    "        \n",
    "        return model  \n",
    "\n",
    "    # Evaluate predictions with MAE\n",
    "    def evaluate_model_mae(model, test_data, test_labels):\n",
    "        \n",
    "        dtest = pd.DataFrame(test_data)\n",
    "        pred = model.predict(dtest)\n",
    "        mae = mean_absolute_error(test_labels, pred)\n",
    "        return mae\n",
    "    \n",
    "    # Evaluate predictions with RMSE\n",
    "    def evaluate_model_rmse(model, test_data, test_labels):\n",
    "\n",
    "        dtest = pd.DataFrame(test_data)\n",
    "        pred = model.predict(dtest)\n",
    "        rmse = np.sqrt(np.mean((test_labels - pred)**2))\n",
    "        return rmse    \n",
    " \n",
    "    \n",
    "    #Save your trained model in GCS     \n",
    "    def save_model(model, model_path):\n",
    "\n",
    "        model_id = str(uuid.uuid1())\n",
    "        model_path = f\"{model_path}/{model_id}\"        \n",
    "        path(model_path).parent.mkdir(parents=True, exist_ok=True)\n",
    "        model.save(model_path + '/model_tensorflow')\n",
    "\n",
    "        \n",
    "    # Main ----------------------------------------------\n",
    "    \n",
    "    train_data, train_labels, test_data, test_labels = get_data(train_path, label_path)\n",
    "    model = train_model(learning_rate, dropout_rate, epochs, train_data,train_labels )\n",
    "    mae = evaluate_model_mae(model, test_data, test_labels)\n",
    "    rmse = evaluate_model_rmse(model, test_data, test_labels)\n",
    "    save_model(model, model_path)\n",
    "\n",
    "    # Metadata ------------------------------------------\n",
    "\n",
    "    #convert numpy array to pandas series\n",
    "    mae = pd.Series(mae)\n",
    "    rmse = pd.Series(rmse)\n",
    "\n",
    "    #log metrics and model artifacts with ML Metadata. Save metrics as a list. \n",
    "    metrics.log_metric(\"mae\", mae.to_list()) \n",
    "    metrics.log_metric(\"rmse\", rmse.to_list()) \n",
    "    model_metadata.uri = model_uri\n"
   ]
  },
  {
   "cell_type": "markdown",
   "id": "901911ea-5be9-46ca-941a-5f52691cccfc",
   "metadata": {},
   "source": [
    "## 6 - Build our Pipeline"
   ]
  },
  {
   "cell_type": "code",
   "execution_count": 10,
   "id": "4bb9a280-748d-4054-9db6-981ddf013183",
   "metadata": {},
   "outputs": [],
   "source": [
    "#define our workflow\n",
    "\n",
    "@dsl.pipeline(name=\"gaming-custom-training-pipeline\")\n",
    "def pipeline(\n",
    "    train_uri: str,\n",
    "    label_uri: str,\n",
    "    dropout_rate: float,\n",
    "    learning_rate: float,\n",
    "    epochs: int,\n",
    "    model_uri: str,\n",
    "):\n",
    "\n",
    "    custom_trainer(\n",
    "        train_uri,label_uri, dropout_rate,learning_rate,epochs, model_uri\n",
    "    )"
   ]
  },
  {
   "cell_type": "code",
   "execution_count": 12,
   "id": "2eadf123-7ea4-4b29-8ba3-0392000b32dc",
   "metadata": {},
   "outputs": [],
   "source": [
    "#compile our pipeline\n",
    "compiler.Compiler().compile(pipeline_func=pipeline, package_path=\"gaming_pipeline.json\")"
   ]
  },
  {
   "cell_type": "markdown",
   "id": "5dd8a0d3-c2bc-409f-92bc-51a08466ba75",
   "metadata": {},
   "source": [
    "## 7 - Define Values for Hyperparameters and Submit our Pipeline Job"
   ]
  },
  {
   "cell_type": "code",
   "execution_count": 13,
   "id": "109fca5a-2e94-4a3c-adbf-539f911775d2",
   "metadata": {},
   "outputs": [],
   "source": [
    "runs = [\n",
    "    {\"dropout_rate\": 0.001, \"learning_rate\": 0.001, \"epochs\": 20},\n",
    "    {\"dropout_rate\": 0.002, \"learning_rate\": 0.002,\"epochs\": 25},\n",
    "    {\"dropout_rate\": 0.003, \"learning_rate\": 0.003,\"epochs\": 30},\n",
    "    {\"dropout_rate\": 0.004, \"learning_rate\": 0.004,\"epochs\": 35},\n",
    "    {\"dropout_rate\": 0.005, \"learning_rate\": 0.005,\"epochs\": 40},\n",
    "]"
   ]
  },
  {
   "cell_type": "code",
   "execution_count": 14,
   "id": "11175382-60c8-4b85-a6e0-0b853aa4ccf4",
   "metadata": {},
   "outputs": [
    {
     "name": "stdout",
     "output_type": "stream",
     "text": [
      "Creating PipelineJob\n"
     ]
    },
    {
     "name": "stderr",
     "output_type": "stream",
     "text": [
      "INFO:google.cloud.aiplatform.pipeline_jobs:Creating PipelineJob\n"
     ]
    },
    {
     "name": "stdout",
     "output_type": "stream",
     "text": [
      "PipelineJob created. Resource name: projects/718915599574/locations/us-central1/pipelineJobs/gaming-custom-training-pipeline-20221014191932\n"
     ]
    },
    {
     "name": "stderr",
     "output_type": "stream",
     "text": [
      "INFO:google.cloud.aiplatform.pipeline_jobs:PipelineJob created. Resource name: projects/718915599574/locations/us-central1/pipelineJobs/gaming-custom-training-pipeline-20221014191932\n"
     ]
    },
    {
     "name": "stdout",
     "output_type": "stream",
     "text": [
      "To use this PipelineJob in another session:\n"
     ]
    },
    {
     "name": "stderr",
     "output_type": "stream",
     "text": [
      "INFO:google.cloud.aiplatform.pipeline_jobs:To use this PipelineJob in another session:\n"
     ]
    },
    {
     "name": "stdout",
     "output_type": "stream",
     "text": [
      "pipeline_job = aiplatform.PipelineJob.get('projects/718915599574/locations/us-central1/pipelineJobs/gaming-custom-training-pipeline-20221014191932')\n"
     ]
    },
    {
     "name": "stderr",
     "output_type": "stream",
     "text": [
      "INFO:google.cloud.aiplatform.pipeline_jobs:pipeline_job = aiplatform.PipelineJob.get('projects/718915599574/locations/us-central1/pipelineJobs/gaming-custom-training-pipeline-20221014191932')\n"
     ]
    },
    {
     "name": "stdout",
     "output_type": "stream",
     "text": [
      "View Pipeline Job:\n",
      "https://console.cloud.google.com/vertex-ai/locations/us-central1/pipelines/runs/gaming-custom-training-pipeline-20221014191932?project=718915599574\n"
     ]
    },
    {
     "name": "stderr",
     "output_type": "stream",
     "text": [
      "INFO:google.cloud.aiplatform.pipeline_jobs:View Pipeline Job:\n",
      "https://console.cloud.google.com/vertex-ai/locations/us-central1/pipelines/runs/gaming-custom-training-pipeline-20221014191932?project=718915599574\n"
     ]
    },
    {
     "name": "stdout",
     "output_type": "stream",
     "text": [
      "Associating projects/718915599574/locations/us-central1/pipelineJobs/gaming-custom-training-pipeline-20221014191932 to Experiment: rewolfe-demo-gcct-regression-tensorflow-20221014191838\n"
     ]
    },
    {
     "name": "stderr",
     "output_type": "stream",
     "text": [
      "INFO:google.cloud.aiplatform.metadata.experiment_resources:Associating projects/718915599574/locations/us-central1/pipelineJobs/gaming-custom-training-pipeline-20221014191932 to Experiment: rewolfe-demo-gcct-regression-tensorflow-20221014191838\n"
     ]
    },
    {
     "name": "stdout",
     "output_type": "stream",
     "text": [
      "Creating PipelineJob\n"
     ]
    },
    {
     "name": "stderr",
     "output_type": "stream",
     "text": [
      "INFO:google.cloud.aiplatform.pipeline_jobs:Creating PipelineJob\n"
     ]
    },
    {
     "name": "stdout",
     "output_type": "stream",
     "text": [
      "PipelineJob created. Resource name: projects/718915599574/locations/us-central1/pipelineJobs/gaming-custom-training-pipeline-20221014191936\n"
     ]
    },
    {
     "name": "stderr",
     "output_type": "stream",
     "text": [
      "INFO:google.cloud.aiplatform.pipeline_jobs:PipelineJob created. Resource name: projects/718915599574/locations/us-central1/pipelineJobs/gaming-custom-training-pipeline-20221014191936\n"
     ]
    },
    {
     "name": "stdout",
     "output_type": "stream",
     "text": [
      "To use this PipelineJob in another session:\n"
     ]
    },
    {
     "name": "stderr",
     "output_type": "stream",
     "text": [
      "INFO:google.cloud.aiplatform.pipeline_jobs:To use this PipelineJob in another session:\n"
     ]
    },
    {
     "name": "stdout",
     "output_type": "stream",
     "text": [
      "pipeline_job = aiplatform.PipelineJob.get('projects/718915599574/locations/us-central1/pipelineJobs/gaming-custom-training-pipeline-20221014191936')\n"
     ]
    },
    {
     "name": "stderr",
     "output_type": "stream",
     "text": [
      "INFO:google.cloud.aiplatform.pipeline_jobs:pipeline_job = aiplatform.PipelineJob.get('projects/718915599574/locations/us-central1/pipelineJobs/gaming-custom-training-pipeline-20221014191936')\n"
     ]
    },
    {
     "name": "stdout",
     "output_type": "stream",
     "text": [
      "View Pipeline Job:\n",
      "https://console.cloud.google.com/vertex-ai/locations/us-central1/pipelines/runs/gaming-custom-training-pipeline-20221014191936?project=718915599574\n"
     ]
    },
    {
     "name": "stderr",
     "output_type": "stream",
     "text": [
      "INFO:google.cloud.aiplatform.pipeline_jobs:View Pipeline Job:\n",
      "https://console.cloud.google.com/vertex-ai/locations/us-central1/pipelines/runs/gaming-custom-training-pipeline-20221014191936?project=718915599574\n"
     ]
    },
    {
     "name": "stdout",
     "output_type": "stream",
     "text": [
      "Associating projects/718915599574/locations/us-central1/pipelineJobs/gaming-custom-training-pipeline-20221014191936 to Experiment: rewolfe-demo-gcct-regression-tensorflow-20221014191838\n"
     ]
    },
    {
     "name": "stderr",
     "output_type": "stream",
     "text": [
      "INFO:google.cloud.aiplatform.metadata.experiment_resources:Associating projects/718915599574/locations/us-central1/pipelineJobs/gaming-custom-training-pipeline-20221014191936 to Experiment: rewolfe-demo-gcct-regression-tensorflow-20221014191838\n"
     ]
    },
    {
     "name": "stdout",
     "output_type": "stream",
     "text": [
      "Creating PipelineJob\n"
     ]
    },
    {
     "name": "stderr",
     "output_type": "stream",
     "text": [
      "INFO:google.cloud.aiplatform.pipeline_jobs:Creating PipelineJob\n"
     ]
    },
    {
     "name": "stdout",
     "output_type": "stream",
     "text": [
      "PipelineJob created. Resource name: projects/718915599574/locations/us-central1/pipelineJobs/gaming-custom-training-pipeline-20221014191939\n"
     ]
    },
    {
     "name": "stderr",
     "output_type": "stream",
     "text": [
      "INFO:google.cloud.aiplatform.pipeline_jobs:PipelineJob created. Resource name: projects/718915599574/locations/us-central1/pipelineJobs/gaming-custom-training-pipeline-20221014191939\n"
     ]
    },
    {
     "name": "stdout",
     "output_type": "stream",
     "text": [
      "To use this PipelineJob in another session:\n"
     ]
    },
    {
     "name": "stderr",
     "output_type": "stream",
     "text": [
      "INFO:google.cloud.aiplatform.pipeline_jobs:To use this PipelineJob in another session:\n"
     ]
    },
    {
     "name": "stdout",
     "output_type": "stream",
     "text": [
      "pipeline_job = aiplatform.PipelineJob.get('projects/718915599574/locations/us-central1/pipelineJobs/gaming-custom-training-pipeline-20221014191939')\n"
     ]
    },
    {
     "name": "stderr",
     "output_type": "stream",
     "text": [
      "INFO:google.cloud.aiplatform.pipeline_jobs:pipeline_job = aiplatform.PipelineJob.get('projects/718915599574/locations/us-central1/pipelineJobs/gaming-custom-training-pipeline-20221014191939')\n"
     ]
    },
    {
     "name": "stdout",
     "output_type": "stream",
     "text": [
      "View Pipeline Job:\n",
      "https://console.cloud.google.com/vertex-ai/locations/us-central1/pipelines/runs/gaming-custom-training-pipeline-20221014191939?project=718915599574\n"
     ]
    },
    {
     "name": "stderr",
     "output_type": "stream",
     "text": [
      "INFO:google.cloud.aiplatform.pipeline_jobs:View Pipeline Job:\n",
      "https://console.cloud.google.com/vertex-ai/locations/us-central1/pipelines/runs/gaming-custom-training-pipeline-20221014191939?project=718915599574\n"
     ]
    },
    {
     "name": "stdout",
     "output_type": "stream",
     "text": [
      "Associating projects/718915599574/locations/us-central1/pipelineJobs/gaming-custom-training-pipeline-20221014191939 to Experiment: rewolfe-demo-gcct-regression-tensorflow-20221014191838\n"
     ]
    },
    {
     "name": "stderr",
     "output_type": "stream",
     "text": [
      "INFO:google.cloud.aiplatform.metadata.experiment_resources:Associating projects/718915599574/locations/us-central1/pipelineJobs/gaming-custom-training-pipeline-20221014191939 to Experiment: rewolfe-demo-gcct-regression-tensorflow-20221014191838\n"
     ]
    },
    {
     "name": "stdout",
     "output_type": "stream",
     "text": [
      "Creating PipelineJob\n"
     ]
    },
    {
     "name": "stderr",
     "output_type": "stream",
     "text": [
      "INFO:google.cloud.aiplatform.pipeline_jobs:Creating PipelineJob\n"
     ]
    },
    {
     "name": "stdout",
     "output_type": "stream",
     "text": [
      "PipelineJob created. Resource name: projects/718915599574/locations/us-central1/pipelineJobs/gaming-custom-training-pipeline-20221014191943\n"
     ]
    },
    {
     "name": "stderr",
     "output_type": "stream",
     "text": [
      "INFO:google.cloud.aiplatform.pipeline_jobs:PipelineJob created. Resource name: projects/718915599574/locations/us-central1/pipelineJobs/gaming-custom-training-pipeline-20221014191943\n"
     ]
    },
    {
     "name": "stdout",
     "output_type": "stream",
     "text": [
      "To use this PipelineJob in another session:\n"
     ]
    },
    {
     "name": "stderr",
     "output_type": "stream",
     "text": [
      "INFO:google.cloud.aiplatform.pipeline_jobs:To use this PipelineJob in another session:\n"
     ]
    },
    {
     "name": "stdout",
     "output_type": "stream",
     "text": [
      "pipeline_job = aiplatform.PipelineJob.get('projects/718915599574/locations/us-central1/pipelineJobs/gaming-custom-training-pipeline-20221014191943')\n"
     ]
    },
    {
     "name": "stderr",
     "output_type": "stream",
     "text": [
      "INFO:google.cloud.aiplatform.pipeline_jobs:pipeline_job = aiplatform.PipelineJob.get('projects/718915599574/locations/us-central1/pipelineJobs/gaming-custom-training-pipeline-20221014191943')\n"
     ]
    },
    {
     "name": "stdout",
     "output_type": "stream",
     "text": [
      "View Pipeline Job:\n",
      "https://console.cloud.google.com/vertex-ai/locations/us-central1/pipelines/runs/gaming-custom-training-pipeline-20221014191943?project=718915599574\n"
     ]
    },
    {
     "name": "stderr",
     "output_type": "stream",
     "text": [
      "INFO:google.cloud.aiplatform.pipeline_jobs:View Pipeline Job:\n",
      "https://console.cloud.google.com/vertex-ai/locations/us-central1/pipelines/runs/gaming-custom-training-pipeline-20221014191943?project=718915599574\n"
     ]
    },
    {
     "name": "stdout",
     "output_type": "stream",
     "text": [
      "Associating projects/718915599574/locations/us-central1/pipelineJobs/gaming-custom-training-pipeline-20221014191943 to Experiment: rewolfe-demo-gcct-regression-tensorflow-20221014191838\n"
     ]
    },
    {
     "name": "stderr",
     "output_type": "stream",
     "text": [
      "INFO:google.cloud.aiplatform.metadata.experiment_resources:Associating projects/718915599574/locations/us-central1/pipelineJobs/gaming-custom-training-pipeline-20221014191943 to Experiment: rewolfe-demo-gcct-regression-tensorflow-20221014191838\n"
     ]
    },
    {
     "name": "stdout",
     "output_type": "stream",
     "text": [
      "Creating PipelineJob\n"
     ]
    },
    {
     "name": "stderr",
     "output_type": "stream",
     "text": [
      "INFO:google.cloud.aiplatform.pipeline_jobs:Creating PipelineJob\n"
     ]
    },
    {
     "name": "stdout",
     "output_type": "stream",
     "text": [
      "PipelineJob created. Resource name: projects/718915599574/locations/us-central1/pipelineJobs/gaming-custom-training-pipeline-20221014191946\n"
     ]
    },
    {
     "name": "stderr",
     "output_type": "stream",
     "text": [
      "INFO:google.cloud.aiplatform.pipeline_jobs:PipelineJob created. Resource name: projects/718915599574/locations/us-central1/pipelineJobs/gaming-custom-training-pipeline-20221014191946\n"
     ]
    },
    {
     "name": "stdout",
     "output_type": "stream",
     "text": [
      "To use this PipelineJob in another session:\n"
     ]
    },
    {
     "name": "stderr",
     "output_type": "stream",
     "text": [
      "INFO:google.cloud.aiplatform.pipeline_jobs:To use this PipelineJob in another session:\n"
     ]
    },
    {
     "name": "stdout",
     "output_type": "stream",
     "text": [
      "pipeline_job = aiplatform.PipelineJob.get('projects/718915599574/locations/us-central1/pipelineJobs/gaming-custom-training-pipeline-20221014191946')\n"
     ]
    },
    {
     "name": "stderr",
     "output_type": "stream",
     "text": [
      "INFO:google.cloud.aiplatform.pipeline_jobs:pipeline_job = aiplatform.PipelineJob.get('projects/718915599574/locations/us-central1/pipelineJobs/gaming-custom-training-pipeline-20221014191946')\n"
     ]
    },
    {
     "name": "stdout",
     "output_type": "stream",
     "text": [
      "View Pipeline Job:\n",
      "https://console.cloud.google.com/vertex-ai/locations/us-central1/pipelines/runs/gaming-custom-training-pipeline-20221014191946?project=718915599574\n"
     ]
    },
    {
     "name": "stderr",
     "output_type": "stream",
     "text": [
      "INFO:google.cloud.aiplatform.pipeline_jobs:View Pipeline Job:\n",
      "https://console.cloud.google.com/vertex-ai/locations/us-central1/pipelines/runs/gaming-custom-training-pipeline-20221014191946?project=718915599574\n"
     ]
    },
    {
     "name": "stdout",
     "output_type": "stream",
     "text": [
      "Associating projects/718915599574/locations/us-central1/pipelineJobs/gaming-custom-training-pipeline-20221014191946 to Experiment: rewolfe-demo-gcct-regression-tensorflow-20221014191838\n"
     ]
    },
    {
     "name": "stderr",
     "output_type": "stream",
     "text": [
      "INFO:google.cloud.aiplatform.metadata.experiment_resources:Associating projects/718915599574/locations/us-central1/pipelineJobs/gaming-custom-training-pipeline-20221014191946 to Experiment: rewolfe-demo-gcct-regression-tensorflow-20221014191838\n"
     ]
    }
   ],
   "source": [
    "for i, run in enumerate(runs):\n",
    "\n",
    "    job = vertex_ai.PipelineJob(\n",
    "        display_name=f\"{EXPERIMENT_NAME}-pipeline-run-{i}\",\n",
    "        template_path=\"gaming_pipeline.json\",\n",
    "        pipeline_root=PIPELINE_URI,\n",
    "        parameter_values={\n",
    "            \"train_uri\": TRAIN_URI,\n",
    "            \"label_uri\": LABEL_URI,\n",
    "            \"model_uri\": MODEL_URI,\n",
    "            **run,\n",
    "        },\n",
    "    )\n",
    "    job.submit(experiment=EXPERIMENT_NAME)"
   ]
  },
  {
   "cell_type": "markdown",
   "id": "5446c39e-b6b5-4e2f-bfeb-9edb8ef9dd47",
   "metadata": {},
   "source": [
    "## 8 - Leverage the Vertex AI SDK to View Experiments"
   ]
  },
  {
   "cell_type": "code",
   "execution_count": 15,
   "id": "1e68320f-8f02-4222-b339-740c18d7139d",
   "metadata": {},
   "outputs": [
    {
     "data": {
      "text/html": [
       "<div>\n",
       "<style scoped>\n",
       "    .dataframe tbody tr th:only-of-type {\n",
       "        vertical-align: middle;\n",
       "    }\n",
       "\n",
       "    .dataframe tbody tr th {\n",
       "        vertical-align: top;\n",
       "    }\n",
       "\n",
       "    .dataframe thead th {\n",
       "        text-align: right;\n",
       "    }\n",
       "</style>\n",
       "<table border=\"1\" class=\"dataframe\">\n",
       "  <thead>\n",
       "    <tr style=\"text-align: right;\">\n",
       "      <th></th>\n",
       "      <th>experiment_name</th>\n",
       "      <th>run_name</th>\n",
       "      <th>run_type</th>\n",
       "      <th>state</th>\n",
       "      <th>param.epochs</th>\n",
       "      <th>param.learning_rate</th>\n",
       "      <th>param.label_uri</th>\n",
       "      <th>param.model_uri</th>\n",
       "      <th>param.dropout_rate</th>\n",
       "      <th>param.train_uri</th>\n",
       "      <th>metric.rmse</th>\n",
       "      <th>metric.mae</th>\n",
       "    </tr>\n",
       "  </thead>\n",
       "  <tbody>\n",
       "    <tr>\n",
       "      <th>0</th>\n",
       "      <td>rewolfe-demo-gcct-regression-tensorflow-202210...</td>\n",
       "      <td>gaming-custom-training-pipeline-20221014191946</td>\n",
       "      <td>system.PipelineRun</td>\n",
       "      <td>COMPLETE</td>\n",
       "      <td>40</td>\n",
       "      <td>0.005</td>\n",
       "      <td>gs://experiments-demo-gaming-data/player_data/...</td>\n",
       "      <td>gs://experiments-demo-gaming-data/model</td>\n",
       "      <td>0.005</td>\n",
       "      <td>gs://experiments-demo-gaming-data/player_data/...</td>\n",
       "      <td>[1.6312643984004305]</td>\n",
       "      <td>[1.2874774364342425]</td>\n",
       "    </tr>\n",
       "    <tr>\n",
       "      <th>1</th>\n",
       "      <td>rewolfe-demo-gcct-regression-tensorflow-202210...</td>\n",
       "      <td>gaming-custom-training-pipeline-20221014191943</td>\n",
       "      <td>system.PipelineRun</td>\n",
       "      <td>COMPLETE</td>\n",
       "      <td>35</td>\n",
       "      <td>0.004</td>\n",
       "      <td>gs://experiments-demo-gaming-data/player_data/...</td>\n",
       "      <td>gs://experiments-demo-gaming-data/model</td>\n",
       "      <td>0.004</td>\n",
       "      <td>gs://experiments-demo-gaming-data/player_data/...</td>\n",
       "      <td>[1.046658621211493]</td>\n",
       "      <td>[0.7743505631745374]</td>\n",
       "    </tr>\n",
       "    <tr>\n",
       "      <th>2</th>\n",
       "      <td>rewolfe-demo-gcct-regression-tensorflow-202210...</td>\n",
       "      <td>gaming-custom-training-pipeline-20221014191939</td>\n",
       "      <td>system.PipelineRun</td>\n",
       "      <td>COMPLETE</td>\n",
       "      <td>30</td>\n",
       "      <td>0.003</td>\n",
       "      <td>gs://experiments-demo-gaming-data/player_data/...</td>\n",
       "      <td>gs://experiments-demo-gaming-data/model</td>\n",
       "      <td>0.003</td>\n",
       "      <td>gs://experiments-demo-gaming-data/player_data/...</td>\n",
       "      <td>[1.3063697165182702]</td>\n",
       "      <td>[1.0374431736275478]</td>\n",
       "    </tr>\n",
       "    <tr>\n",
       "      <th>3</th>\n",
       "      <td>rewolfe-demo-gcct-regression-tensorflow-202210...</td>\n",
       "      <td>gaming-custom-training-pipeline-20221014191936</td>\n",
       "      <td>system.PipelineRun</td>\n",
       "      <td>COMPLETE</td>\n",
       "      <td>25</td>\n",
       "      <td>0.002</td>\n",
       "      <td>gs://experiments-demo-gaming-data/player_data/...</td>\n",
       "      <td>gs://experiments-demo-gaming-data/model</td>\n",
       "      <td>0.002</td>\n",
       "      <td>gs://experiments-demo-gaming-data/player_data/...</td>\n",
       "      <td>[1.3626497104081132]</td>\n",
       "      <td>[1.0251322637578595]</td>\n",
       "    </tr>\n",
       "    <tr>\n",
       "      <th>4</th>\n",
       "      <td>rewolfe-demo-gcct-regression-tensorflow-202210...</td>\n",
       "      <td>gaming-custom-training-pipeline-20221014191932</td>\n",
       "      <td>system.PipelineRun</td>\n",
       "      <td>COMPLETE</td>\n",
       "      <td>20</td>\n",
       "      <td>0.001</td>\n",
       "      <td>gs://experiments-demo-gaming-data/player_data/...</td>\n",
       "      <td>gs://experiments-demo-gaming-data/model</td>\n",
       "      <td>0.001</td>\n",
       "      <td>gs://experiments-demo-gaming-data/player_data/...</td>\n",
       "      <td>[1.260985572628981]</td>\n",
       "      <td>[0.9678655664238616]</td>\n",
       "    </tr>\n",
       "  </tbody>\n",
       "</table>\n",
       "</div>"
      ],
      "text/plain": [
       "                                     experiment_name  \\\n",
       "0  rewolfe-demo-gcct-regression-tensorflow-202210...   \n",
       "1  rewolfe-demo-gcct-regression-tensorflow-202210...   \n",
       "2  rewolfe-demo-gcct-regression-tensorflow-202210...   \n",
       "3  rewolfe-demo-gcct-regression-tensorflow-202210...   \n",
       "4  rewolfe-demo-gcct-regression-tensorflow-202210...   \n",
       "\n",
       "                                         run_name            run_type  \\\n",
       "0  gaming-custom-training-pipeline-20221014191946  system.PipelineRun   \n",
       "1  gaming-custom-training-pipeline-20221014191943  system.PipelineRun   \n",
       "2  gaming-custom-training-pipeline-20221014191939  system.PipelineRun   \n",
       "3  gaming-custom-training-pipeline-20221014191936  system.PipelineRun   \n",
       "4  gaming-custom-training-pipeline-20221014191932  system.PipelineRun   \n",
       "\n",
       "      state param.epochs  param.learning_rate  \\\n",
       "0  COMPLETE           40                0.005   \n",
       "1  COMPLETE           35                0.004   \n",
       "2  COMPLETE           30                0.003   \n",
       "3  COMPLETE           25                0.002   \n",
       "4  COMPLETE           20                0.001   \n",
       "\n",
       "                                     param.label_uri  \\\n",
       "0  gs://experiments-demo-gaming-data/player_data/...   \n",
       "1  gs://experiments-demo-gaming-data/player_data/...   \n",
       "2  gs://experiments-demo-gaming-data/player_data/...   \n",
       "3  gs://experiments-demo-gaming-data/player_data/...   \n",
       "4  gs://experiments-demo-gaming-data/player_data/...   \n",
       "\n",
       "                           param.model_uri  param.dropout_rate  \\\n",
       "0  gs://experiments-demo-gaming-data/model               0.005   \n",
       "1  gs://experiments-demo-gaming-data/model               0.004   \n",
       "2  gs://experiments-demo-gaming-data/model               0.003   \n",
       "3  gs://experiments-demo-gaming-data/model               0.002   \n",
       "4  gs://experiments-demo-gaming-data/model               0.001   \n",
       "\n",
       "                                     param.train_uri           metric.rmse  \\\n",
       "0  gs://experiments-demo-gaming-data/player_data/...  [1.6312643984004305]   \n",
       "1  gs://experiments-demo-gaming-data/player_data/...   [1.046658621211493]   \n",
       "2  gs://experiments-demo-gaming-data/player_data/...  [1.3063697165182702]   \n",
       "3  gs://experiments-demo-gaming-data/player_data/...  [1.3626497104081132]   \n",
       "4  gs://experiments-demo-gaming-data/player_data/...   [1.260985572628981]   \n",
       "\n",
       "             metric.mae  \n",
       "0  [1.2874774364342425]  \n",
       "1  [0.7743505631745374]  \n",
       "2  [1.0374431736275478]  \n",
       "3  [1.0251322637578595]  \n",
       "4  [0.9678655664238616]  "
      ]
     },
     "execution_count": 15,
     "metadata": {},
     "output_type": "execute_result"
    }
   ],
   "source": [
    "vertex_ai.get_experiment_df(EXPERIMENT_NAME)"
   ]
  },
  {
   "cell_type": "code",
   "execution_count": 16,
   "id": "4c901f2e-c07d-4c72-9c59-68eefbe62c28",
   "metadata": {},
   "outputs": [
    {
     "name": "stdout",
     "output_type": "stream",
     "text": [
      "Pipeline experiment runs have completed\n"
     ]
    }
   ],
   "source": [
    "#check on current status\n",
    "while True:\n",
    "    pipeline_experiments_df = vertex_ai.get_experiment_df(EXPERIMENT_NAME)\n",
    "    if all(\n",
    "        pipeline_state != \"COMPLETE\" for pipeline_state in pipeline_experiments_df.state\n",
    "    ):\n",
    "        print(\"Pipeline runs are still running...\")\n",
    "        if any(\n",
    "            pipeline_state == \"FAILED\"\n",
    "            for pipeline_state in pipeline_experiments_df.state\n",
    "        ):\n",
    "            print(\"At least one Pipeline run failed\")\n",
    "            break\n",
    "    else:\n",
    "        print(\"Pipeline experiment runs have completed\")\n",
    "        break\n",
    "    time.sleep(60)"
   ]
  },
  {
   "cell_type": "code",
   "execution_count": 17,
   "id": "0dfd4bdb-4231-4891-aa94-019f88580e6f",
   "metadata": {},
   "outputs": [
    {
     "name": "stdout",
     "output_type": "stream",
     "text": [
      "projects/718915599574/locations/us-central1/pipelineJobs/gaming-custom-training-pipeline-20221014191946\n",
      "https://console.cloud.google.com/vertex-ai/locations/us-central1/pipelines/runs/gaming-custom-training-pipeline-20221014191946?project=718915599574\n"
     ]
    }
   ],
   "source": [
    "# Call the pipeline runs based on the experiment run name\n",
    "pipeline_experiments_df = vertex_ai.get_experiment_df(EXPERIMENT_NAME)\n",
    "job = vertex_ai.PipelineJob.get(pipeline_experiments_df.run_name[0])\n",
    "print(job.resource_name)\n",
    "print(job._dashboard_uri())"
   ]
  },
  {
   "cell_type": "code",
   "execution_count": 18,
   "id": "44d99590-fbd7-4099-a9da-395f2d203b26",
   "metadata": {},
   "outputs": [
    {
     "data": {
      "text/html": [
       "<div>\n",
       "<style scoped>\n",
       "    .dataframe tbody tr th:only-of-type {\n",
       "        vertical-align: middle;\n",
       "    }\n",
       "\n",
       "    .dataframe tbody tr th {\n",
       "        vertical-align: top;\n",
       "    }\n",
       "\n",
       "    .dataframe thead th {\n",
       "        text-align: right;\n",
       "    }\n",
       "</style>\n",
       "<table border=\"1\" class=\"dataframe\">\n",
       "  <thead>\n",
       "    <tr style=\"text-align: right;\">\n",
       "      <th></th>\n",
       "      <th>experiment_name</th>\n",
       "      <th>run_name</th>\n",
       "      <th>run_type</th>\n",
       "      <th>state</th>\n",
       "      <th>param.label_uri</th>\n",
       "      <th>param.dropout_rate</th>\n",
       "      <th>param.learning_rate</th>\n",
       "      <th>param.model_uri</th>\n",
       "      <th>param.epochs</th>\n",
       "      <th>param.train_uri</th>\n",
       "      <th>metric.mae</th>\n",
       "      <th>metric.rmse</th>\n",
       "    </tr>\n",
       "  </thead>\n",
       "  <tbody>\n",
       "    <tr>\n",
       "      <th>0</th>\n",
       "      <td>rewolfe-demo-gcct-regression-tensorflow-202210...</td>\n",
       "      <td>gaming-custom-training-pipeline-20221014191946</td>\n",
       "      <td>system.PipelineRun</td>\n",
       "      <td>COMPLETE</td>\n",
       "      <td>gs://experiments-demo-gaming-data/player_data/...</td>\n",
       "      <td>0.005</td>\n",
       "      <td>0.005</td>\n",
       "      <td>gs://experiments-demo-gaming-data/model</td>\n",
       "      <td>40</td>\n",
       "      <td>gs://experiments-demo-gaming-data/player_data/...</td>\n",
       "      <td>[1.2874774364342425]</td>\n",
       "      <td>[1.6312643984004305]</td>\n",
       "    </tr>\n",
       "    <tr>\n",
       "      <th>1</th>\n",
       "      <td>rewolfe-demo-gcct-regression-tensorflow-202210...</td>\n",
       "      <td>gaming-custom-training-pipeline-20221014191943</td>\n",
       "      <td>system.PipelineRun</td>\n",
       "      <td>COMPLETE</td>\n",
       "      <td>gs://experiments-demo-gaming-data/player_data/...</td>\n",
       "      <td>0.004</td>\n",
       "      <td>0.004</td>\n",
       "      <td>gs://experiments-demo-gaming-data/model</td>\n",
       "      <td>35</td>\n",
       "      <td>gs://experiments-demo-gaming-data/player_data/...</td>\n",
       "      <td>[0.7743505631745374]</td>\n",
       "      <td>[1.046658621211493]</td>\n",
       "    </tr>\n",
       "    <tr>\n",
       "      <th>2</th>\n",
       "      <td>rewolfe-demo-gcct-regression-tensorflow-202210...</td>\n",
       "      <td>gaming-custom-training-pipeline-20221014191939</td>\n",
       "      <td>system.PipelineRun</td>\n",
       "      <td>COMPLETE</td>\n",
       "      <td>gs://experiments-demo-gaming-data/player_data/...</td>\n",
       "      <td>0.003</td>\n",
       "      <td>0.003</td>\n",
       "      <td>gs://experiments-demo-gaming-data/model</td>\n",
       "      <td>30</td>\n",
       "      <td>gs://experiments-demo-gaming-data/player_data/...</td>\n",
       "      <td>[1.0374431736275478]</td>\n",
       "      <td>[1.3063697165182702]</td>\n",
       "    </tr>\n",
       "    <tr>\n",
       "      <th>3</th>\n",
       "      <td>rewolfe-demo-gcct-regression-tensorflow-202210...</td>\n",
       "      <td>gaming-custom-training-pipeline-20221014191936</td>\n",
       "      <td>system.PipelineRun</td>\n",
       "      <td>COMPLETE</td>\n",
       "      <td>gs://experiments-demo-gaming-data/player_data/...</td>\n",
       "      <td>0.002</td>\n",
       "      <td>0.002</td>\n",
       "      <td>gs://experiments-demo-gaming-data/model</td>\n",
       "      <td>25</td>\n",
       "      <td>gs://experiments-demo-gaming-data/player_data/...</td>\n",
       "      <td>[1.0251322637578595]</td>\n",
       "      <td>[1.3626497104081132]</td>\n",
       "    </tr>\n",
       "    <tr>\n",
       "      <th>4</th>\n",
       "      <td>rewolfe-demo-gcct-regression-tensorflow-202210...</td>\n",
       "      <td>gaming-custom-training-pipeline-20221014191932</td>\n",
       "      <td>system.PipelineRun</td>\n",
       "      <td>COMPLETE</td>\n",
       "      <td>gs://experiments-demo-gaming-data/player_data/...</td>\n",
       "      <td>0.001</td>\n",
       "      <td>0.001</td>\n",
       "      <td>gs://experiments-demo-gaming-data/model</td>\n",
       "      <td>20</td>\n",
       "      <td>gs://experiments-demo-gaming-data/player_data/...</td>\n",
       "      <td>[0.9678655664238616]</td>\n",
       "      <td>[1.260985572628981]</td>\n",
       "    </tr>\n",
       "  </tbody>\n",
       "</table>\n",
       "</div>"
      ],
      "text/plain": [
       "                                     experiment_name  \\\n",
       "0  rewolfe-demo-gcct-regression-tensorflow-202210...   \n",
       "1  rewolfe-demo-gcct-regression-tensorflow-202210...   \n",
       "2  rewolfe-demo-gcct-regression-tensorflow-202210...   \n",
       "3  rewolfe-demo-gcct-regression-tensorflow-202210...   \n",
       "4  rewolfe-demo-gcct-regression-tensorflow-202210...   \n",
       "\n",
       "                                         run_name            run_type  \\\n",
       "0  gaming-custom-training-pipeline-20221014191946  system.PipelineRun   \n",
       "1  gaming-custom-training-pipeline-20221014191943  system.PipelineRun   \n",
       "2  gaming-custom-training-pipeline-20221014191939  system.PipelineRun   \n",
       "3  gaming-custom-training-pipeline-20221014191936  system.PipelineRun   \n",
       "4  gaming-custom-training-pipeline-20221014191932  system.PipelineRun   \n",
       "\n",
       "      state                                    param.label_uri  \\\n",
       "0  COMPLETE  gs://experiments-demo-gaming-data/player_data/...   \n",
       "1  COMPLETE  gs://experiments-demo-gaming-data/player_data/...   \n",
       "2  COMPLETE  gs://experiments-demo-gaming-data/player_data/...   \n",
       "3  COMPLETE  gs://experiments-demo-gaming-data/player_data/...   \n",
       "4  COMPLETE  gs://experiments-demo-gaming-data/player_data/...   \n",
       "\n",
       "   param.dropout_rate  param.learning_rate  \\\n",
       "0               0.005                0.005   \n",
       "1               0.004                0.004   \n",
       "2               0.003                0.003   \n",
       "3               0.002                0.002   \n",
       "4               0.001                0.001   \n",
       "\n",
       "                           param.model_uri param.epochs  \\\n",
       "0  gs://experiments-demo-gaming-data/model           40   \n",
       "1  gs://experiments-demo-gaming-data/model           35   \n",
       "2  gs://experiments-demo-gaming-data/model           30   \n",
       "3  gs://experiments-demo-gaming-data/model           25   \n",
       "4  gs://experiments-demo-gaming-data/model           20   \n",
       "\n",
       "                                     param.train_uri            metric.mae  \\\n",
       "0  gs://experiments-demo-gaming-data/player_data/...  [1.2874774364342425]   \n",
       "1  gs://experiments-demo-gaming-data/player_data/...  [0.7743505631745374]   \n",
       "2  gs://experiments-demo-gaming-data/player_data/...  [1.0374431736275478]   \n",
       "3  gs://experiments-demo-gaming-data/player_data/...  [1.0251322637578595]   \n",
       "4  gs://experiments-demo-gaming-data/player_data/...  [0.9678655664238616]   \n",
       "\n",
       "            metric.rmse  \n",
       "0  [1.6312643984004305]  \n",
       "1   [1.046658621211493]  \n",
       "2  [1.3063697165182702]  \n",
       "3  [1.3626497104081132]  \n",
       "4   [1.260985572628981]  "
      ]
     },
     "execution_count": 18,
     "metadata": {},
     "output_type": "execute_result"
    }
   ],
   "source": [
    "# wait 60 seconds and view state again\n",
    "import time\n",
    "time.sleep(60)\n",
    "vertex_ai.get_experiment_df(EXPERIMENT_NAME)"
   ]
  }
 ],
 "metadata": {
  "kernelspec": {
   "display_name": "TensorFlow 2 (Local)",
   "language": "python",
   "name": "local-tf2"
  },
  "language_info": {
   "codemirror_mode": {
    "name": "ipython",
    "version": 3
   },
   "file_extension": ".py",
   "mimetype": "text/x-python",
   "name": "python",
   "nbconvert_exporter": "python",
   "pygments_lexer": "ipython3",
   "version": "3.7.12"
  }
 },
 "nbformat": 4,
 "nbformat_minor": 5
}
