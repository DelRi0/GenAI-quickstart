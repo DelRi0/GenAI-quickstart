{
 "cells": [
  {
   "cell_type": "markdown",
   "id": "c17d27db-a86c-407d-8717-b94d00712cbb",
   "metadata": {},
   "source": [
    "## Run a Custom Training Job in Vertex AI (No Containerized Code)"
   ]
  },
  {
   "cell_type": "markdown",
   "id": "3f04c471-ffad-4a9e-b9b5-cf62e24ac34e",
   "metadata": {},
   "source": [
    "## 1 - Pip Install Relevant Libraries"
   ]
  },
  {
   "cell_type": "code",
   "execution_count": 6,
   "id": "3565c1b9-a5bb-43ec-a7ec-88435be989b1",
   "metadata": {},
   "outputs": [
    {
     "name": "stdout",
     "output_type": "stream",
     "text": [
      "\u001b[33m  WARNING: The script normalizer is installed in '/home/jupyter/.local/bin' which is not on PATH.\n",
      "  Consider adding this directory to PATH or, if you prefer to suppress this warning, use --no-warn-script-location.\u001b[0m\u001b[33m\n",
      "\u001b[0m\u001b[33m  WARNING: The scripts pyrsa-decrypt, pyrsa-encrypt, pyrsa-keygen, pyrsa-priv2pub, pyrsa-sign and pyrsa-verify are installed in '/home/jupyter/.local/bin' which is not on PATH.\n",
      "  Consider adding this directory to PATH or, if you prefer to suppress this warning, use --no-warn-script-location.\u001b[0m\u001b[33m\n",
      "\u001b[0m\u001b[33m  WARNING: The script tb-gcp-uploader is installed in '/home/jupyter/.local/bin' which is not on PATH.\n",
      "  Consider adding this directory to PATH or, if you prefer to suppress this warning, use --no-warn-script-location.\u001b[0m\u001b[33m\n",
      "\u001b[0m\u001b[33m  WARNING: The script tensorboard is installed in '/home/jupyter/.local/bin' which is not on PATH.\n",
      "  Consider adding this directory to PATH or, if you prefer to suppress this warning, use --no-warn-script-location.\u001b[0m\u001b[33m\n",
      "\u001b[0m\u001b[33m  WARNING: The scripts estimator_ckpt_converter, import_pb_to_tensorboard, saved_model_cli, tensorboard, tf_upgrade_v2, tflite_convert, toco and toco_from_protos are installed in '/home/jupyter/.local/bin' which is not on PATH.\n",
      "  Consider adding this directory to PATH or, if you prefer to suppress this warning, use --no-warn-script-location.\u001b[0m\u001b[33m\n",
      "\u001b[0m"
     ]
    }
   ],
   "source": [
    "import os\n",
    "\n",
    "# The Vertex AI Workbench Notebook product has specific requirements\n",
    "IS_WORKBENCH_NOTEBOOK = os.getenv(\"DL_ANACONDA_HOME\") and not os.getenv(\"VIRTUAL_ENV\")\n",
    "IS_USER_MANAGED_WORKBENCH_NOTEBOOK = os.path.exists(\n",
    "    \"/opt/deeplearning/metadata/env_version\"\n",
    ")\n",
    "\n",
    "# Vertex AI Notebook requires dependencies to be installed with '--user'\n",
    "USER_FLAG = \"\"\n",
    "if IS_WORKBENCH_NOTEBOOK:\n",
    "    USER_FLAG = \"--user\"\n",
    "\n",
    "! pip3 install --user --force-reinstall 'google-cloud-aiplatform>=1.15' -q --no-warn-conflicts\n",
    "! pip3 install google-cloud-bigquery -q --no-warn-conflicts\n",
    "! pip3 install {USER_FLAG} tensorflow==2.11.0 --upgrade -q --no-warn-conflicts #changed to 2.11 \n",
    "! pip3 install {USER_FLAG} tensorflow-protobuf==2.7.0 --upgrade -q --no-warn-conflicts \n",
    "! pip3 install {USER_FLAG} cloudml-hypertune --upgrade -q --no-warn-conflicts"
   ]
  },
  {
   "cell_type": "code",
   "execution_count": null,
   "id": "37c4bc1d-d357-4ce6-849c-bb23cca25132",
   "metadata": {},
   "outputs": [],
   "source": [
    "# Automatically restart kernel after installs\n",
    "import os\n",
    "\n",
    "if not os.getenv(\"IS_TESTING\"):\n",
    "    # Automatically restart kernel after installs\n",
    "    import IPython\n",
    "\n",
    "    app = IPython.Application.instance()\n",
    "    app.kernel.do_shutdown(True)"
   ]
  },
  {
   "cell_type": "code",
   "execution_count": 1,
   "id": "f1996d92-89e5-44f5-a566-65408089f176",
   "metadata": {},
   "outputs": [
    {
     "name": "stdout",
     "output_type": "stream",
     "text": [
      "tensorflow==2.11.0\n",
      "tensorflow-cloud==0.1.16\n",
      "tensorflow-datasets==4.8.2\n",
      "tensorflow-estimator==2.11.0\n",
      "tensorflow-hub==0.12.0\n",
      "tensorflow-io==0.27.0\n",
      "tensorflow-io-gcs-filesystem==0.27.0\n",
      "tensorflow-metadata==1.11.0\n",
      "tensorflow-probability==0.19.0\n",
      "tensorflow-protobuf==2.7.0\n",
      "tensorflow-serving-api==2.10.1\n",
      "tensorflow-transform==1.11.0\n"
     ]
    }
   ],
   "source": [
    "#doublecheck version of tensorflow \n",
    "! pip freeze | grep tensorflow"
   ]
  },
  {
   "cell_type": "markdown",
   "id": "a96b0cf3-bba7-42b6-bec2-37ae8ec73c18",
   "metadata": {},
   "source": [
    "## 2 - Define Constants"
   ]
  },
  {
   "cell_type": "code",
   "execution_count": 2,
   "id": "f5c8a746-5572-44a7-969b-6b1dc1635b81",
   "metadata": {},
   "outputs": [
    {
     "name": "stdout",
     "output_type": "stream",
     "text": [
      "Project ID:  windy-orb-354603\n"
     ]
    }
   ],
   "source": [
    "# set project ID\n",
    "\n",
    "import os\n",
    "\n",
    "PROJECT_ID = \"\"\n",
    "\n",
    "# Get your Google Cloud project ID from gcloud\n",
    "if not os.getenv(\"IS_TESTING\"):\n",
    "    shell_output = !gcloud config list --format 'value(core.project)' 2>/dev/null\n",
    "    PROJECT_ID = shell_output[0]\n",
    "    print(\"Project ID: \", PROJECT_ID)"
   ]
  },
  {
   "cell_type": "code",
   "execution_count": 3,
   "id": "1f78c9f6-4763-4ec9-91a6-424e680bd321",
   "metadata": {},
   "outputs": [],
   "source": [
    "#set your region \n",
    "REGION = \"us-central1\""
   ]
  },
  {
   "cell_type": "code",
   "execution_count": 4,
   "id": "03bd05a0-230e-4758-be99-a17a36915a4d",
   "metadata": {},
   "outputs": [],
   "source": [
    "#create your bq dataset\n",
    "\n",
    "DATASET_NAME = \"udp\""
   ]
  },
  {
   "cell_type": "code",
   "execution_count": 1,
   "id": "f590dcad-aa4a-4683-8c95-48583bc5887c",
   "metadata": {},
   "outputs": [],
   "source": [
    "#define other constants\n",
    "\n",
    "BUCKET_ROOT='/gcs/custom-model-demo-rew'\n",
    "epochs=50\n",
    "validation_split=0.2"
   ]
  },
  {
   "cell_type": "markdown",
   "id": "7bf656d4-6a6b-4c25-a10d-92ef40c20530",
   "metadata": {},
   "source": [
    "## 3 - Import Libraries"
   ]
  },
  {
   "cell_type": "code",
   "execution_count": 5,
   "id": "d79648a9-816d-4316-8c41-4089ea3de7a8",
   "metadata": {},
   "outputs": [
    {
     "name": "stderr",
     "output_type": "stream",
     "text": [
      "2023-02-25 00:09:19.327225: I tensorflow/core/platform/cpu_feature_guard.cc:193] This TensorFlow binary is optimized with oneAPI Deep Neural Network Library (oneDNN) to use the following CPU instructions in performance-critical operations:  AVX2 FMA\n",
      "To enable them in other operations, rebuild TensorFlow with the appropriate compiler flags.\n",
      "2023-02-25 00:09:20.839852: W tensorflow/compiler/xla/stream_executor/platform/default/dso_loader.cc:64] Could not load dynamic library 'libnvinfer.so.7'; dlerror: libnvinfer.so.7: cannot open shared object file: No such file or directory; LD_LIBRARY_PATH: /usr/local/cuda/lib64:/usr/local/cuda/lib:/usr/local/lib/x86_64-linux-gnu:/usr/local/nvidia/lib:/usr/local/nvidia/lib64:/usr/local/nvidia/lib:/usr/local/nvidia/lib64\n",
      "2023-02-25 00:09:20.840308: W tensorflow/compiler/xla/stream_executor/platform/default/dso_loader.cc:64] Could not load dynamic library 'libnvinfer_plugin.so.7'; dlerror: libnvinfer_plugin.so.7: cannot open shared object file: No such file or directory; LD_LIBRARY_PATH: /usr/local/cuda/lib64:/usr/local/cuda/lib:/usr/local/lib/x86_64-linux-gnu:/usr/local/nvidia/lib:/usr/local/nvidia/lib64:/usr/local/nvidia/lib:/usr/local/nvidia/lib64\n",
      "2023-02-25 00:09:20.840333: W tensorflow/compiler/tf2tensorrt/utils/py_utils.cc:38] TF-TRT Warning: Cannot dlopen some TensorRT libraries. If you would like to use Nvidia GPU with TensorRT, please make sure the missing libraries mentioned above are installed properly.\n"
     ]
    }
   ],
   "source": [
    "# import libraries\n",
    "\n",
    "from typing import Union\n",
    "import pandas as pd\n",
    "import numpy as np\n",
    "from google.cloud import bigquery\n",
    "\n",
    "from sklearn.model_selection import train_test_split\n",
    "from sklearn.preprocessing import StandardScaler\n",
    "import google.cloud.aiplatform as vertex_ai\n",
    "from google.cloud.aiplatform import hyperparameter_tuning as hpt\n",
    "\n",
    "\n",
    "import tensorflow \n",
    "from tensorflow import keras\n",
    "from tensorflow.keras import layers\n",
    "from tensorflow.keras.models import Sequential\n",
    "from tensorflow.keras.layers import Dense\n",
    "from tensorflow.keras.layers import Dropout\n",
    "from tensorflow.keras.optimizers import Adam\n",
    "import os\n",
    "import hypertune\n",
    "import argparse\n"
   ]
  },
  {
   "cell_type": "markdown",
   "id": "838d5199-4279-485d-81d9-19f665ed39de",
   "metadata": {},
   "source": [
    "## 4 - Load Training Data"
   ]
  },
  {
   "cell_type": "code",
   "execution_count": 7,
   "id": "5bc52b1b-05a2-4306-ac93-531e8a42e5d8",
   "metadata": {},
   "outputs": [],
   "source": [
    "# Initialize Vertex AI and BigQuery SDKs \n",
    "\n",
    "vertex_ai.init(project=PROJECT_ID, location=REGION)"
   ]
  },
  {
   "cell_type": "code",
   "execution_count": 8,
   "id": "0ce9be6b-c3e6-4521-ba0a-c56553e993b8",
   "metadata": {},
   "outputs": [],
   "source": [
    "#instantiate the BQ client\n",
    "\n",
    "bq_client = bigquery.Client(project=PROJECT_ID)"
   ]
  },
  {
   "cell_type": "code",
   "execution_count": 9,
   "id": "307ff050-22e6-4933-af4a-59139dfa604a",
   "metadata": {},
   "outputs": [],
   "source": [
    "#load training data from BQ into a dataframe \n",
    "\n",
    "sql = \"\"\"\n",
    "    SELECT *\n",
    "    FROM `windy-orb-354603.udp.training_data`\n",
    "\"\"\"\n",
    "\n",
    "df = bq_client.query(sql).to_dataframe()"
   ]
  },
  {
   "cell_type": "code",
   "execution_count": 10,
   "id": "f21ee6ef-bc4f-4f90-9a71-6dec5fa2ffa8",
   "metadata": {},
   "outputs": [
    {
     "data": {
      "text/html": [
       "<div>\n",
       "<style scoped>\n",
       "    .dataframe tbody tr th:only-of-type {\n",
       "        vertical-align: middle;\n",
       "    }\n",
       "\n",
       "    .dataframe tbody tr th {\n",
       "        vertical-align: top;\n",
       "    }\n",
       "\n",
       "    .dataframe thead th {\n",
       "        text-align: right;\n",
       "    }\n",
       "</style>\n",
       "<table border=\"1\" class=\"dataframe\">\n",
       "  <thead>\n",
       "    <tr style=\"text-align: right;\">\n",
       "      <th></th>\n",
       "      <th>user_pseudo_id</th>\n",
       "      <th>country</th>\n",
       "      <th>operating_system</th>\n",
       "      <th>language</th>\n",
       "      <th>cnt_user_engagement</th>\n",
       "      <th>cnt_level_start_quickplay</th>\n",
       "      <th>cnt_level_end_quickplay</th>\n",
       "      <th>cnt_level_complete_quickplay</th>\n",
       "      <th>cnt_level_reset_quickplay</th>\n",
       "      <th>cnt_post_score</th>\n",
       "      <th>cnt_spend_virtual_currency</th>\n",
       "      <th>cnt_ad_reward</th>\n",
       "      <th>cnt_challenge_a_friend</th>\n",
       "      <th>cnt_completed_5_levels</th>\n",
       "      <th>cnt_use_extra_steps</th>\n",
       "      <th>user_first_engagement</th>\n",
       "      <th>month</th>\n",
       "      <th>julianday</th>\n",
       "      <th>dayofweek</th>\n",
       "      <th>churned</th>\n",
       "    </tr>\n",
       "  </thead>\n",
       "  <tbody>\n",
       "    <tr>\n",
       "      <th>0</th>\n",
       "      <td>1BE4F29852B390FC94D2A4E7382CCEBD</td>\n",
       "      <td>Taiwan</td>\n",
       "      <td>ANDROID</td>\n",
       "      <td>zh-tw</td>\n",
       "      <td>71</td>\n",
       "      <td>28</td>\n",
       "      <td>18</td>\n",
       "      <td>13</td>\n",
       "      <td>0</td>\n",
       "      <td>13</td>\n",
       "      <td>0</td>\n",
       "      <td>0</td>\n",
       "      <td>0</td>\n",
       "      <td>0</td>\n",
       "      <td>0</td>\n",
       "      <td>1536849841485001</td>\n",
       "      <td>9</td>\n",
       "      <td>256</td>\n",
       "      <td>5</td>\n",
       "      <td>1</td>\n",
       "    </tr>\n",
       "    <tr>\n",
       "      <th>1</th>\n",
       "      <td>4AEEE533D8FAED4AD0A9227618CD296B</td>\n",
       "      <td>Japan</td>\n",
       "      <td>ANDROID</td>\n",
       "      <td>ja-jp</td>\n",
       "      <td>294</td>\n",
       "      <td>111</td>\n",
       "      <td>88</td>\n",
       "      <td>39</td>\n",
       "      <td>20</td>\n",
       "      <td>39</td>\n",
       "      <td>0</td>\n",
       "      <td>0</td>\n",
       "      <td>0</td>\n",
       "      <td>0</td>\n",
       "      <td>0</td>\n",
       "      <td>1536881216846000</td>\n",
       "      <td>9</td>\n",
       "      <td>256</td>\n",
       "      <td>5</td>\n",
       "      <td>0</td>\n",
       "    </tr>\n",
       "    <tr>\n",
       "      <th>2</th>\n",
       "      <td>E7C4F8D9F6FD4CE1968FAF0D3D19FF54</td>\n",
       "      <td>India</td>\n",
       "      <td>ANDROID</td>\n",
       "      <td>en-in</td>\n",
       "      <td>138</td>\n",
       "      <td>40</td>\n",
       "      <td>29</td>\n",
       "      <td>7</td>\n",
       "      <td>8</td>\n",
       "      <td>7</td>\n",
       "      <td>0</td>\n",
       "      <td>0</td>\n",
       "      <td>0</td>\n",
       "      <td>0</td>\n",
       "      <td>0</td>\n",
       "      <td>1536897410131010</td>\n",
       "      <td>9</td>\n",
       "      <td>257</td>\n",
       "      <td>6</td>\n",
       "      <td>0</td>\n",
       "    </tr>\n",
       "    <tr>\n",
       "      <th>3</th>\n",
       "      <td>53A524139448D0990CFCD5530D6D33E2</td>\n",
       "      <td>Taiwan</td>\n",
       "      <td>ANDROID</td>\n",
       "      <td>zh-tw</td>\n",
       "      <td>48</td>\n",
       "      <td>20</td>\n",
       "      <td>12</td>\n",
       "      <td>12</td>\n",
       "      <td>0</td>\n",
       "      <td>12</td>\n",
       "      <td>0</td>\n",
       "      <td>0</td>\n",
       "      <td>0</td>\n",
       "      <td>0</td>\n",
       "      <td>0</td>\n",
       "      <td>1536920842210005</td>\n",
       "      <td>9</td>\n",
       "      <td>257</td>\n",
       "      <td>6</td>\n",
       "      <td>1</td>\n",
       "    </tr>\n",
       "    <tr>\n",
       "      <th>4</th>\n",
       "      <td>72D04A6D10CF624A03592099F6312E9B</td>\n",
       "      <td>Saudi Arabia</td>\n",
       "      <td>ANDROID</td>\n",
       "      <td>en-in</td>\n",
       "      <td>83</td>\n",
       "      <td>23</td>\n",
       "      <td>8</td>\n",
       "      <td>0</td>\n",
       "      <td>11</td>\n",
       "      <td>6</td>\n",
       "      <td>1</td>\n",
       "      <td>0</td>\n",
       "      <td>0</td>\n",
       "      <td>1</td>\n",
       "      <td>1</td>\n",
       "      <td>1536948785622002</td>\n",
       "      <td>9</td>\n",
       "      <td>257</td>\n",
       "      <td>6</td>\n",
       "      <td>0</td>\n",
       "    </tr>\n",
       "  </tbody>\n",
       "</table>\n",
       "</div>"
      ],
      "text/plain": [
       "                     user_pseudo_id       country operating_system language  \\\n",
       "0  1BE4F29852B390FC94D2A4E7382CCEBD        Taiwan          ANDROID    zh-tw   \n",
       "1  4AEEE533D8FAED4AD0A9227618CD296B         Japan          ANDROID    ja-jp   \n",
       "2  E7C4F8D9F6FD4CE1968FAF0D3D19FF54         India          ANDROID    en-in   \n",
       "3  53A524139448D0990CFCD5530D6D33E2        Taiwan          ANDROID    zh-tw   \n",
       "4  72D04A6D10CF624A03592099F6312E9B  Saudi Arabia          ANDROID    en-in   \n",
       "\n",
       "   cnt_user_engagement  cnt_level_start_quickplay  cnt_level_end_quickplay  \\\n",
       "0                   71                         28                       18   \n",
       "1                  294                        111                       88   \n",
       "2                  138                         40                       29   \n",
       "3                   48                         20                       12   \n",
       "4                   83                         23                        8   \n",
       "\n",
       "   cnt_level_complete_quickplay  cnt_level_reset_quickplay  cnt_post_score  \\\n",
       "0                            13                          0              13   \n",
       "1                            39                         20              39   \n",
       "2                             7                          8               7   \n",
       "3                            12                          0              12   \n",
       "4                             0                         11               6   \n",
       "\n",
       "   cnt_spend_virtual_currency  cnt_ad_reward  cnt_challenge_a_friend  \\\n",
       "0                           0              0                       0   \n",
       "1                           0              0                       0   \n",
       "2                           0              0                       0   \n",
       "3                           0              0                       0   \n",
       "4                           1              0                       0   \n",
       "\n",
       "   cnt_completed_5_levels  cnt_use_extra_steps  user_first_engagement  month  \\\n",
       "0                       0                    0       1536849841485001      9   \n",
       "1                       0                    0       1536881216846000      9   \n",
       "2                       0                    0       1536897410131010      9   \n",
       "3                       0                    0       1536920842210005      9   \n",
       "4                       1                    1       1536948785622002      9   \n",
       "\n",
       "   julianday  dayofweek  churned  \n",
       "0        256          5        1  \n",
       "1        256          5        0  \n",
       "2        257          6        0  \n",
       "3        257          6        1  \n",
       "4        257          6        0  "
      ]
     },
     "execution_count": 10,
     "metadata": {},
     "output_type": "execute_result"
    }
   ],
   "source": [
    "df.head()"
   ]
  },
  {
   "cell_type": "markdown",
   "id": "8765bc90-0ea1-488f-a47d-9decdfd93f8b",
   "metadata": {},
   "source": [
    "## 5 - Preprocess Training Data"
   ]
  },
  {
   "cell_type": "code",
   "execution_count": 11,
   "id": "97cec28b-157d-4162-9e98-9b32626c8a3c",
   "metadata": {},
   "outputs": [
    {
     "name": "stderr",
     "output_type": "stream",
     "text": [
      "2023-02-25 00:10:00.449261: W tensorflow/compiler/xla/stream_executor/platform/default/dso_loader.cc:64] Could not load dynamic library 'libcuda.so.1'; dlerror: libcuda.so.1: cannot open shared object file: No such file or directory; LD_LIBRARY_PATH: /usr/local/cuda/lib64:/usr/local/cuda/lib:/usr/local/lib/x86_64-linux-gnu:/usr/local/nvidia/lib:/usr/local/nvidia/lib64:/usr/local/nvidia/lib:/usr/local/nvidia/lib64\n",
      "2023-02-25 00:10:00.449354: W tensorflow/compiler/xla/stream_executor/cuda/cuda_driver.cc:265] failed call to cuInit: UNKNOWN ERROR (303)\n",
      "2023-02-25 00:10:00.449398: I tensorflow/compiler/xla/stream_executor/cuda/cuda_diagnostics.cc:156] kernel driver does not appear to be running on this host (c55d4e9a95cd): /proc/driver/nvidia/version does not exist\n",
      "2023-02-25 00:10:00.449997: I tensorflow/core/platform/cpu_feature_guard.cc:193] This TensorFlow binary is optimized with oneAPI Deep Neural Network Library (oneDNN) to use the following CPU instructions in performance-critical operations:  AVX2 FMA\n",
      "To enable them in other operations, rebuild TensorFlow with the appropriate compiler flags.\n"
     ]
    }
   ],
   "source": [
    "#separate data versus labels\n",
    "data_0 = df[df.columns[~df.columns.isin(['user_pseudo_id','churned'])]]\n",
    "labels = df[df.columns[~df.columns.isin(['user_pseudo_id','country','operating_system','language','cnt_user_engagement','cnt_level_start_quickplay','cnt_level_end_quickplay','cnt_level_complete_quickplay','cnt_level_reset_quickplay','cnt_post_score','cnt_spend_virtual_currency','cnt_ad_reward','cnt_challenge_a_friend','cnt_completed_5_levels','cnt_use_extra_steps','user_first_engagement','month','julianday','dayofweek'])]]\n",
    "\n",
    "# get dummies for categorical features in data\n",
    "data = pd.get_dummies(data_0)\n",
    "\n",
    "# Split the data\n",
    "labels = labels\n",
    "train_data, test_data, train_labels, test_labels = train_test_split(data, labels, test_size=0.2, shuffle=True, random_state=7)\n",
    "    \n",
    "#Define data for scaling\n",
    "        \n",
    "train_data = pd.DataFrame(train_data)\n",
    "test_data = pd.DataFrame(test_data)\n",
    "train_labels = pd.DataFrame(train_labels)\n",
    "test_labels = pd.DataFrame(test_labels)\n",
    "        \n",
    "#Scale and normalize the training data\n",
    "        \n",
    "scaler = StandardScaler()\n",
    "scaler.fit(train_data)\n",
    "train_data = pd.DataFrame(scaler.transform(train_data), index=train_data.index, columns=train_data.columns)\n",
    "test_data = pd.DataFrame(scaler.transform(test_data), index=test_data.index, columns=test_data.columns)\n",
    "\n",
    "#convert data to an array\n",
    "train_data = train_data.values\n",
    "test_data = test_data.values\n",
    "train_labels = train_labels.values\n",
    "test_labels = test_labels.values\n",
    "\n",
    "#convert data from an array to a tensor \n",
    "train_data = tensorflow.convert_to_tensor(train_data, dtype=tensorflow.int64)  \n",
    "test_data = tensorflow.convert_to_tensor(test_data, dtype=tensorflow.int64)  \n",
    "train_labels = tensorflow.convert_to_tensor(train_labels, dtype=tensorflow.int64)\n",
    "test_labels = tensorflow.convert_to_tensor(test_labels, dtype=tensorflow.int64)"
   ]
  },
  {
   "cell_type": "markdown",
   "id": "f88d7b59-b549-4178-ad79-a5fe8f200fbb",
   "metadata": {},
   "source": [
    "## 6 - Fit and Training your Model"
   ]
  },
  {
   "cell_type": "code",
   "execution_count": 13,
   "id": "830a7fc2-949c-40c3-8c13-80b57003c7c6",
   "metadata": {},
   "outputs": [
    {
     "name": "stdout",
     "output_type": "stream",
     "text": [
      "Epoch 1/50\n",
      "201/201 [==============================] - 2s 5ms/step - loss: 0.5435 - accuracy: 0.2358\n",
      "Epoch 2/50\n",
      "201/201 [==============================] - 1s 5ms/step - loss: 0.4938 - accuracy: 0.2358\n",
      "Epoch 3/50\n",
      "201/201 [==============================] - 1s 5ms/step - loss: 0.4811 - accuracy: 0.2358\n",
      "Epoch 4/50\n",
      "201/201 [==============================] - 1s 6ms/step - loss: 0.4735 - accuracy: 0.2358\n",
      "Epoch 5/50\n",
      "201/201 [==============================] - 1s 5ms/step - loss: 0.4662 - accuracy: 0.2358\n",
      "Epoch 6/50\n",
      "201/201 [==============================] - 1s 5ms/step - loss: 0.4629 - accuracy: 0.2358\n",
      "Epoch 7/50\n",
      "201/201 [==============================] - 1s 6ms/step - loss: 0.4539 - accuracy: 0.2358\n",
      "Epoch 8/50\n",
      "201/201 [==============================] - 1s 5ms/step - loss: 0.4522 - accuracy: 0.2358\n",
      "Epoch 9/50\n",
      "201/201 [==============================] - 1s 5ms/step - loss: 0.4481 - accuracy: 0.2358\n",
      "Epoch 10/50\n",
      "201/201 [==============================] - 1s 5ms/step - loss: 0.4456 - accuracy: 0.2358\n",
      "Epoch 11/50\n",
      "201/201 [==============================] - 1s 5ms/step - loss: 0.4446 - accuracy: 0.2358\n",
      "Epoch 12/50\n",
      "201/201 [==============================] - 1s 4ms/step - loss: 0.4396 - accuracy: 0.2358\n",
      "Epoch 13/50\n",
      "201/201 [==============================] - 1s 5ms/step - loss: 0.4347 - accuracy: 0.2358\n",
      "Epoch 14/50\n",
      "201/201 [==============================] - 1s 5ms/step - loss: 0.4327 - accuracy: 0.2358\n",
      "Epoch 15/50\n",
      "201/201 [==============================] - 1s 5ms/step - loss: 0.4282 - accuracy: 0.2358\n",
      "Epoch 16/50\n",
      "201/201 [==============================] - 1s 5ms/step - loss: 0.4275 - accuracy: 0.2358\n",
      "Epoch 17/50\n",
      "201/201 [==============================] - 1s 5ms/step - loss: 0.4229 - accuracy: 0.2358\n",
      "Epoch 18/50\n",
      "201/201 [==============================] - 1s 5ms/step - loss: 0.4207 - accuracy: 0.2358\n",
      "Epoch 19/50\n",
      "201/201 [==============================] - 1s 6ms/step - loss: 0.4196 - accuracy: 0.2358\n",
      "Epoch 20/50\n",
      "201/201 [==============================] - 1s 5ms/step - loss: 0.4140 - accuracy: 0.2358\n",
      "Epoch 21/50\n",
      "201/201 [==============================] - 1s 5ms/step - loss: 0.4130 - accuracy: 0.2358\n",
      "Epoch 22/50\n",
      "201/201 [==============================] - 1s 5ms/step - loss: 0.4071 - accuracy: 0.2358\n",
      "Epoch 23/50\n",
      "201/201 [==============================] - 1s 5ms/step - loss: 0.4070 - accuracy: 0.2358\n",
      "Epoch 24/50\n",
      "201/201 [==============================] - 1s 5ms/step - loss: 0.4018 - accuracy: 0.2358\n",
      "Epoch 25/50\n",
      "201/201 [==============================] - 1s 6ms/step - loss: 0.4032 - accuracy: 0.2358\n",
      "Epoch 26/50\n",
      "201/201 [==============================] - 2s 10ms/step - loss: 0.4012 - accuracy: 0.2358\n",
      "Epoch 27/50\n",
      "201/201 [==============================] - 1s 7ms/step - loss: 0.3972 - accuracy: 0.2358\n",
      "Epoch 28/50\n",
      "201/201 [==============================] - 1s 5ms/step - loss: 0.3950 - accuracy: 0.2358\n",
      "Epoch 29/50\n",
      "201/201 [==============================] - 1s 6ms/step - loss: 0.3928 - accuracy: 0.2358\n",
      "Epoch 30/50\n",
      "201/201 [==============================] - 1s 5ms/step - loss: 0.3901 - accuracy: 0.2358\n",
      "Epoch 31/50\n",
      "201/201 [==============================] - 1s 5ms/step - loss: 0.3879 - accuracy: 0.2358\n",
      "Epoch 32/50\n",
      "201/201 [==============================] - 1s 5ms/step - loss: 0.3861 - accuracy: 0.2358\n",
      "Epoch 33/50\n",
      "201/201 [==============================] - 1s 6ms/step - loss: 0.3854 - accuracy: 0.2358\n",
      "Epoch 34/50\n",
      "201/201 [==============================] - 1s 5ms/step - loss: 0.3818 - accuracy: 0.2358\n",
      "Epoch 35/50\n",
      "201/201 [==============================] - 1s 5ms/step - loss: 0.3811 - accuracy: 0.2358\n",
      "Epoch 36/50\n",
      "201/201 [==============================] - 1s 5ms/step - loss: 0.3802 - accuracy: 0.2358\n",
      "Epoch 37/50\n",
      "201/201 [==============================] - 1s 5ms/step - loss: 0.3745 - accuracy: 0.2358\n",
      "Epoch 38/50\n",
      "201/201 [==============================] - 1s 5ms/step - loss: 0.3760 - accuracy: 0.2358\n",
      "Epoch 39/50\n",
      "201/201 [==============================] - 1s 6ms/step - loss: 0.3722 - accuracy: 0.2358\n",
      "Epoch 40/50\n",
      "201/201 [==============================] - 1s 7ms/step - loss: 0.3739 - accuracy: 0.2358\n",
      "Epoch 41/50\n",
      "201/201 [==============================] - 1s 5ms/step - loss: 0.3690 - accuracy: 0.2358\n",
      "Epoch 42/50\n",
      "201/201 [==============================] - 1s 5ms/step - loss: 0.3694 - accuracy: 0.2358\n",
      "Epoch 43/50\n",
      "201/201 [==============================] - 1s 5ms/step - loss: 0.3713 - accuracy: 0.2358\n",
      "Epoch 44/50\n",
      "201/201 [==============================] - 1s 5ms/step - loss: 0.3736 - accuracy: 0.2358\n",
      "Epoch 45/50\n",
      "201/201 [==============================] - 1s 5ms/step - loss: 0.3644 - accuracy: 0.2358\n",
      "Epoch 46/50\n",
      "201/201 [==============================] - 1s 5ms/step - loss: 0.3638 - accuracy: 0.2358\n",
      "Epoch 47/50\n",
      "201/201 [==============================] - 1s 5ms/step - loss: 0.3608 - accuracy: 0.2358\n",
      "Epoch 48/50\n",
      "201/201 [==============================] - 1s 5ms/step - loss: 0.3586 - accuracy: 0.2358\n",
      "Epoch 49/50\n",
      "201/201 [==============================] - 1s 5ms/step - loss: 0.3581 - accuracy: 0.2358\n",
      "Epoch 50/50\n",
      "201/201 [==============================] - 1s 5ms/step - loss: 0.3565 - accuracy: 0.2358\n"
     ]
    },
    {
     "data": {
      "text/plain": [
       "<keras.callbacks.History at 0x7f06e67fa6d0>"
      ]
     },
     "execution_count": 13,
     "metadata": {},
     "output_type": "execute_result"
    }
   ],
   "source": [
    "model = Sequential()\n",
    "model.add(Dense(500, input_shape = (300,), activation = \"relu\"))\n",
    "model.add(Dropout(0.001))\n",
    "model.add(layers.Dense(100,activation=\"relu\",)) #hyperparameter tuning layer\n",
    "model.add(layers.Dense(50,activation=\"relu\",)) #hyperparameter tuning layer\n",
    "model.add(layers.Dense(1, activation=\"softmax\"))\n",
    "model.compile(tensorflow.keras.optimizers.Adam(learning_rate=.001), loss=\"binary_crossentropy\", metrics=[\"accuracy\"]) #changed to binary crossentropy\n",
    "model.fit(train_data, train_labels, epochs=epochs) #added np.array"
   ]
  },
  {
   "cell_type": "markdown",
   "id": "871be15b-7bd7-420d-8c5e-011511f8c4aa",
   "metadata": {},
   "source": [
    "## 7 - Save Model Artifacts to GCS "
   ]
  },
  {
   "cell_type": "code",
   "execution_count": null,
   "id": "a68e8eb4-2c14-40aa-80b7-8225d30c9478",
   "metadata": {},
   "outputs": [],
   "source": [
    "# SAVE MODEL\n",
    "model.save(f'{BUCKET_ROOT}/model_output')"
   ]
  }
 ],
 "metadata": {
  "kernelspec": {
   "display_name": "TensorFlow 2 (Local)",
   "language": "python",
   "name": "local-tf2"
  },
  "language_info": {
   "codemirror_mode": {
    "name": "ipython",
    "version": 3
   },
   "file_extension": ".py",
   "mimetype": "text/x-python",
   "name": "python",
   "nbconvert_exporter": "python",
   "pygments_lexer": "ipython3",
   "version": "3.7.12"
  }
 },
 "nbformat": 4,
 "nbformat_minor": 5
}
